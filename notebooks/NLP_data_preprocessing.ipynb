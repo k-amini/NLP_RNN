{
 "cells": [
  {
   "cell_type": "markdown",
   "metadata": {},
   "source": [
    "## Load libraries"
   ]
  },
  {
   "cell_type": "code",
   "execution_count": 1,
   "metadata": {},
   "outputs": [],
   "source": [
    "import pandas as pd\n",
    "import numpy as np\n",
    "import re\n",
    "from bs4 import BeautifulSoup\n",
    "import html2text\n",
    "from sklearn.model_selection import train_test_split\n",
    "import html"
   ]
  },
  {
   "cell_type": "markdown",
   "metadata": {},
   "source": [
    "## Define own functions"
   ]
  },
  {
   "cell_type": "code",
   "execution_count": 2,
   "metadata": {},
   "outputs": [],
   "source": [
    "def cleanhtml(raw_html):\n",
    "    \"\"\"Cleans text using regular expressions\"\"\"\n",
    "    cleanr = re.compile('<.*?>|&([a-z0-9]+|#[0-9]{1,6}|#x[0-9a-f]{1,6});')\n",
    "    cleantext = re.sub(cleanr, '', raw_html)\n",
    "    cleantext = re.sub('\\r', '', cleantext)\n",
    "    cleantext = re.sub('\\n', ' ', cleantext)\n",
    "    cleantext = re.sub('\\xa0', '', cleantext)\n",
    "    cleantext = re.sub('#*#', '', cleantext)\n",
    "    cleantext = BeautifulSoup(html.unescape(cleantext)).text\n",
    "    cleantext = re.sub(r\"http[s]?://\\S+\", \"\", cleantext)\n",
    "    cleantext = re.sub(r\"\\s+\", \" \", cleantext)  \n",
    "    cleantext = re.sub(r'''(?i)\\b((?:url_|www\\d{0,3}[.]|[a-z0-9.\\-]+[.][a-z]{2,4}/)(?:[^\\s()<>]+|\\(([^\\s()<>]+|(\\([^\\s()<>]+\\)))*\\))+(?:\\(([^\\s()<>]+|(\\([^\\s()<>]+\\)))*\\)|[^\\s`!()\\[\\]{};:'\".,<>?«»\"\"'']))''', \" \", cleantext)\n",
    "    # Newly added\n",
    "    cleantext = str.lower(cleantext)\n",
    "    return cleantext"
   ]
  },
  {
   "cell_type": "code",
   "execution_count": 9,
   "metadata": {},
   "outputs": [],
   "source": [
    "def export_clean_balanced_data(data,text_variable,label_variable,sample_size,SEED,export=True):\n",
    "    \"\"\"Creates cleaned and balanced training and test dataset\"\"\"\n",
    "    # Casting into String\n",
    "    data[text_variable] = data[text_variable].astype(str)\n",
    "    data[text_variable] = [cleanhtml(i) for i in data[text_variable] ]\n",
    "    \n",
    "    # Temporary table with 'population' class imbalance\n",
    "    temp_table = data[label_variable].value_counts()\n",
    "    \n",
    "    # Create new column for class frequency\n",
    "    data['freq'] = [1/temp_table[i] for i in data[label_variable]]\n",
    "    \n",
    "    # Get weighted sample\n",
    "    data=data.sample(n=sample_size, weights='freq', random_state=SEED)\n",
    "    \n",
    "    # Change missing value name\n",
    "    data[text_variable] = ['nann' if i=='nan' else i for i in data[text_variable]]\n",
    "    data[text_variable] = ['nann' if i=='' else i for i in data[text_variable]]\n",
    "    \n",
    "    # Train/Test Split\n",
    "    train, test = train_test_split(data, random_state=SEED)\n",
    "    train = train[[label_variable,text_variable]]\n",
    "    test = test[[label_variable,text_variable]]\n",
    "    \n",
    "    # Save out files\n",
    "    if export:\n",
    "        train.to_csv('train_{}.csv'.format(text_variable),index=True)\n",
    "        test.to_csv('test_{}.csv'.format(text_variable),index=True)\n",
    "    \n",
    "    return data"
   ]
  },
  {
   "cell_type": "markdown",
   "metadata": {},
   "source": [
    "## Import dataset"
   ]
  },
  {
   "cell_type": "code",
   "execution_count": 10,
   "metadata": {},
   "outputs": [
    {
     "name": "stdout",
     "output_type": "stream",
     "text": [
      "                                       title            location department  \\\n",
      "0                           Marketing Intern    US, NY, New York  Marketing   \n",
      "1  Customer Service - Cloud Video Production      NZ, , Auckland    Success   \n",
      "2    Commissioning Machinery Assistant (CMA)       US, IA, Wever        NaN   \n",
      "3          Account Executive - Washington DC  US, DC, Washington      Sales   \n",
      "4                        Bill Review Manager  US, FL, Fort Worth        NaN   \n",
      "\n",
      "  salary_range                                    company_profile  \\\n",
      "0          NaN  <h3>We're Food52, and we've created a groundbr...   \n",
      "1          NaN  <h3>90 Seconds, the worlds Cloud Video Product...   \n",
      "2          NaN  <h3></h3>\\r\\n<p>Valor Services provides Workfo...   \n",
      "3          NaN  <p>Our passion for improving quality of life t...   \n",
      "4          NaN  <p>SpotSource Solutions LLC is a Global Human ...   \n",
      "\n",
      "                                         description  \\\n",
      "0  <p>Food52, a fast-growing, James Beard Award-w...   \n",
      "1  <p>Organised - Focused - Vibrant - Awesome!<br...   \n",
      "2  <p>Our client, located in Houston, is actively...   \n",
      "3  <p><b>THE COMPANY: ESRI – Environmental System...   \n",
      "4  <p><b>JOB TITLE:</b> Itemization Review Manage...   \n",
      "\n",
      "                                        requirements  \\\n",
      "0  <ul>\\r\\n<li>Experience with content management...   \n",
      "1  <p><b>What we expect from you:</b></p>\\r\\n<p>Y...   \n",
      "2  <ul>\\r\\n<li>Implement pre-commissioning and co...   \n",
      "3  <ul>\\r\\n<li>\\r\\n<b>EDUCATION: </b>Bachelor’s o...   \n",
      "4  <p><b>QUALIFICATIONS:</b></p>\\r\\n<ul>\\r\\n<li>R...   \n",
      "\n",
      "                                            benefits telecommuting  \\\n",
      "0                                                NaN             f   \n",
      "1  <h3><b>What you will get from us</b></h3>\\r\\n<...             f   \n",
      "2                                                NaN             f   \n",
      "3  <p>Our culture is anything but corporate—we ha...             f   \n",
      "4                       <p>Full Benefits Offered</p>             f   \n",
      "\n",
      "  has_company_logo has_questions employment_type required_experience  \\\n",
      "0                t             f           Other          Internship   \n",
      "1                t             f       Full-time      Not Applicable   \n",
      "2                t             f             NaN                 NaN   \n",
      "3                t             f       Full-time    Mid-Senior level   \n",
      "4                t             t       Full-time    Mid-Senior level   \n",
      "\n",
      "  required_education                   industry              function  \\\n",
      "0                NaN                        NaN             Marketing   \n",
      "1                NaN  Marketing and Advertising      Customer Service   \n",
      "2                NaN                        NaN                   NaN   \n",
      "3  Bachelor's Degree          Computer Software                 Sales   \n",
      "4  Bachelor's Degree     Hospital & Health Care  Health Care Provider   \n",
      "\n",
      "  fraudulent in_balanced_dataset  \n",
      "0          f                   f  \n",
      "1          f                   f  \n",
      "2          f                   f  \n",
      "3          f                   f  \n",
      "4          f                   f  \n"
     ]
    }
   ],
   "source": [
    "# Import datafile\n",
    "data = pd.read_csv('Data/emscad_v1.csv')\n",
    "print(data.head())"
   ]
  },
  {
   "cell_type": "markdown",
   "metadata": {},
   "source": [
    "## Run the function"
   ]
  },
  {
   "cell_type": "code",
   "execution_count": 11,
   "metadata": {
    "scrolled": true
   },
   "outputs": [
    {
     "name": "stdout",
     "output_type": "stream",
     "text": [
      "f    17014\n",
      "t      866\n",
      "Name: fraudulent, dtype: int64\n"
     ]
    }
   ],
   "source": [
    "# Save whole dataset(cleaned)\n",
    "current_text_var = 'description'\n",
    "\n",
    "dataset2 = export_clean_balanced_data(data=data,\n",
    "                                      text_variable=current_text_var,\n",
    "                                      label_variable='fraudulent',sample_size=len(data),SEED=3,export=False)\n",
    "\n",
    "print(dataset2['fraudulent'].value_counts())"
   ]
  },
  {
   "cell_type": "code",
   "execution_count": 12,
   "metadata": {},
   "outputs": [
    {
     "name": "stdout",
     "output_type": "stream",
     "text": [
      "                                             title            location  \\\n",
      "10239                  Customer Service Team Lead     US, NJ, Somerset   \n",
      "14344                  Senior Interaction Designer     GB, LND, London   \n",
      "5610                                 Optical Sales   US, NY, Plainview   \n",
      "9327                    Senior Electrical Engineer   US, FL, Lake Mary   \n",
      "17649  Data Entry Clerk / Administrative Assistant  US, DC, Washington   \n",
      "\n",
      "           department salary_range  \\\n",
      "10239             NaN          NaN   \n",
      "14344           Tech           NaN   \n",
      "5610              NaN          NaN   \n",
      "9327              NaN          NaN   \n",
      "17649  Administrative     21-63000   \n",
      "\n",
      "                                         company_profile  \\\n",
      "10239  <p>Novitex Enterprise Solutions, formerly Pitn...   \n",
      "14344  <p>10 Minutes With is an educational website d...   \n",
      "5610                                                 NaN   \n",
      "9327                                                 NaN   \n",
      "17649                                                NaN   \n",
      "\n",
      "                                             description  \\\n",
      "10239  we are currently seeking a customer service te...   \n",
      "14344  we are seeking a senior interaction designer t...   \n",
      "5610   optometric practice is seeking a full-time opt...   \n",
      "9327   responsibilities: this position is responsible...   \n",
      "17649  experienced, reliable team members are needed ...   \n",
      "\n",
      "                                            requirements  \\\n",
      "10239  <p><b>Requirements:</b></p>\\r\\n<ul>\\r\\n<li>Hig...   \n",
      "14344  <p><b>Required Skills</b></p>\\r\\n<ul>\\r\\n<li>\\...   \n",
      "5610   <p>Responsibilities include educating and assi...   \n",
      "9327   <p><b>REQUIRED SKILLS:</b></p>\\r\\n<ul>\\r\\n<li>...   \n",
      "17649  <p>6 months to a year experience working in a ...   \n",
      "\n",
      "                                                benefits telecommuting  \\\n",
      "10239                                                NaN             f   \n",
      "14344                                                NaN             f   \n",
      "5610   <p>We offer a team-oriented work environment a...             f   \n",
      "9327                                                 NaN             f   \n",
      "17649  <p>Health, Dental, Life and AD&amp;D Insurance...             f   \n",
      "\n",
      "      has_company_logo has_questions employment_type required_experience  \\\n",
      "10239                t             f       Full-time         Entry level   \n",
      "14344                t             f       Full-time    Mid-Senior level   \n",
      "5610                 f             f       Full-time                 NaN   \n",
      "9327                 t             f        Contract                 NaN   \n",
      "17649                f             f       Full-time         Entry level   \n",
      "\n",
      "              required_education                             industry  \\\n",
      "10239  High School or equivalent                    Consumer Services   \n",
      "14344          Bachelor's Degree  Information Technology and Services   \n",
      "5610                         NaN         Health, Wellness and Fitness   \n",
      "9327                         NaN                                  NaN   \n",
      "17649          Bachelor's Degree                   Telecommunications   \n",
      "\n",
      "                     function fraudulent in_balanced_dataset      freq  \n",
      "10239        Customer Service          f                   f  0.000059  \n",
      "14344  Information Technology          f                   f  0.000059  \n",
      "5610                    Sales          t                   f  0.001155  \n",
      "9327                      NaN          f                   f  0.000059  \n",
      "17649          Administrative          t                   t  0.001155  \n"
     ]
    }
   ],
   "source": [
    "print(dataset2.head())"
   ]
  },
  {
   "cell_type": "code",
   "execution_count": 13,
   "metadata": {},
   "outputs": [],
   "source": [
    "# Save full cleaned dataset\n",
    "dataset2.to_csv('full_{}.csv'.format(current_text_var),index=True)"
   ]
  },
  {
   "cell_type": "code",
   "execution_count": 14,
   "metadata": {},
   "outputs": [
    {
     "name": "stdout",
     "output_type": "stream",
     "text": [
      "f    1294\n",
      "t     706\n",
      "Name: fraudulent, dtype: int64\n"
     ]
    }
   ],
   "source": [
    "text_vars = ['description','company_profile','requirements','benefits']\n",
    "\n",
    "for text_var in text_vars:\n",
    "    dataset2 = export_clean_balanced_data(data=data,\n",
    "                                      text_variable=text_var,\n",
    "                                      label_variable='fraudulent',sample_size=2000,SEED=3,export=True)\n",
    "\n",
    "print(dataset2['fraudulent'].value_counts())"
   ]
  },
  {
   "cell_type": "code",
   "execution_count": null,
   "metadata": {},
   "outputs": [],
   "source": []
  },
  {
   "cell_type": "code",
   "execution_count": 15,
   "metadata": {},
   "outputs": [],
   "source": [
    "## Potential stemming\n",
    "\n",
    "\n",
    "#from nltk.stem.porter import PorterStemmer\n",
    "#sample = open(\"myfile.txt\", \"r\") \n",
    "#s = sample.read() \n",
    "#tokens = word_tokenize(s)\n",
    "#data2 = sample[:100]\n",
    "#porter = PorterStemmer()\n",
    "#stemmed = [[ps.stem(token) for token in sentence.split(\" \")] for sentence in tokens]\n",
    "#stemmed = [porter.stem(word) for word in tokens]\n",
    "#print(stemmed[:100])"
   ]
  },
  {
   "cell_type": "code",
   "execution_count": null,
   "metadata": {},
   "outputs": [],
   "source": []
  }
 ],
 "metadata": {
  "kernelspec": {
   "display_name": "Python 3",
   "language": "python",
   "name": "python3"
  },
  "language_info": {
   "codemirror_mode": {
    "name": "ipython",
    "version": 3
   },
   "file_extension": ".py",
   "mimetype": "text/x-python",
   "name": "python",
   "nbconvert_exporter": "python",
   "pygments_lexer": "ipython3",
   "version": "3.7.4"
  },
  "toc": {
   "base_numbering": 1,
   "nav_menu": {},
   "number_sections": true,
   "sideBar": true,
   "skip_h1_title": false,
   "title_cell": "Table of Contents",
   "title_sidebar": "Contents",
   "toc_cell": false,
   "toc_position": {},
   "toc_section_display": true,
   "toc_window_display": false
  }
 },
 "nbformat": 4,
 "nbformat_minor": 2
}
