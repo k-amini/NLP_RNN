{
 "cells": [
  {
   "cell_type": "markdown",
   "metadata": {
    "colab_type": "text",
    "id": "tuE5Q0y1pnip"
   },
   "source": [
    "# NLP Application in Classifying Job Ads\n",
    "_Aron Pap, Maximilian Müller, Keyvan Amini_"
   ]
  },
  {
   "cell_type": "markdown",
   "metadata": {
    "colab_type": "text",
    "id": "sSsJq7VRpniz"
   },
   "source": [
    "## Dataset and Objective"
   ]
  },
  {
   "cell_type": "markdown",
   "metadata": {
    "colab_type": "text",
    "id": "qXhEDstmpni5"
   },
   "source": [
    "For text classification we used the Employment Scam Aegean Dataset (EMSCAD) which is a publicly available dataset containing 17,880 real-life job ads. The dataset contains 17,014 legitimate and 866 fraudulent job ads published between 2012 to 2014 (dataset available from here: http://emscad.samos.aegean.gr/)\n",
    "\n",
    "Our main goal was to develop an NLP model which is capable of classifying job advertisements as legitimate or fraudulent, only using text features.\n",
    "\n",
    "A paper has been published analyzing exactly this dataset and another goal was to see how our NLP models compare to the results of that paper (paper available online here: https://www.mdpi.com/1999-5903/9/1/6/htm )\n",
    "\n",
    "We used following variables in string format for classifying whether the job ad is fraudulent or not:\n",
    "* Company profile\n",
    "* Description\n",
    "* Requirements\n",
    "* Benefits"
   ]
  },
  {
   "cell_type": "markdown",
   "metadata": {
    "colab_type": "text",
    "id": "7NcPeyRjpni_"
   },
   "source": [
    "## Pre-Processing"
   ]
  },
  {
   "cell_type": "markdown",
   "metadata": {
    "colab_type": "text",
    "id": "OxGguqkqpnjE"
   },
   "source": [
    "To ensure our algorithms can perform better (and also because our text variables were actually HTML fragments) we performed various steps in pre-processing the dataset, such as: removed stopwords, numbers and special characters, removed HTML tags and URLs, lowercasing. Some additional powerful methods such as stemming and lemmatization are automatically performed by the models we have used later. The code we used in the pre-processing is included in the other notebook (https://github.com/k-amini/NLP_RNN/blob/master/notebooks/NLP_data_preprocessing.ipynb).\n",
    "\n",
    "When exploring the dataset we observed that there are duplicate rows, which would distort the cross-validation. In a second approach we therefore decided to remove the the observations where the job descriptions were identical. Moreover, since the classes in the original dataset were highly imbalanced we perfomed sampling inversely proportional to the class sizes, so that we ended up with a more balanced dataset, which we trained our models on. In summary, we ran our models for three different input datasets and compared the results, namely for:\n",
    "\n",
    "* **Full Cleaned Dataset** (original dataset, 17880 observations)\n",
    "* **Study/Paper Dataset** (balanced dataset from the paper referenced above, 900 observations)\n",
    "* **Deduplicated, Balanced Cleaned Dataset** (the dataset we created, 2000 observations)\n",
    "\n",
    "Here are the composition of the valid versus fraudulent observations in the different datasets:\n",
    "\n",
    "**Full sample:**\n",
    "* 659 fraudulent\n",
    "* 14436 valid\n",
    "\n",
    "**Study/Paper sample:**\n",
    "* 450 fraudulent\n",
    "* 450 valid\n",
    "\n",
    "**Balanced train sample:**\n",
    "* 586 fraudulent\n",
    "* 1414 valid"
   ]
  },
  {
   "cell_type": "markdown",
   "metadata": {
    "colab_type": "text",
    "id": "XZHPNIddpnjN"
   },
   "source": [
    "## Models"
   ]
  },
  {
   "cell_type": "markdown",
   "metadata": {
    "colab_type": "text",
    "id": "IPg5TbLPpnjR"
   },
   "source": [
    "### BiLSTM"
   ]
  },
  {
   "cell_type": "markdown",
   "metadata": {
    "colab_type": "text",
    "id": "hBxp1v9CpnjZ"
   },
   "source": [
    "Our first model was a BiLSTM model which applies a bidirectional multi-layer long short-term memory (LSTM) RNN to an input sequence. We chose this model since it seems to be really powerful for natural language processing application and quite straightforward to handle via Pytorch. <br>\n",
    "\n",
    "The first step was building a vocabulary for our training text sets, we used the __glove.6B.100d__ pretrained word embeddings as a starting point for this (we tried other pretrained word embeddings as well, but this performed the best). This provides a 100-dimensional vector representation for each of our words, which is the initialization for the embedding layer of our BiLSTM model. The model will further optimize these word embeddings during the learning process. <br>\n",
    "\n",
    "After the embedding layer our different BiLSTM model configurations had 2/3/4 hidden layers, with 16/32/64 nodes in each layer. The word embedding dimension was 100 and we outputted a single value across all model specifications. We used the __Sigmoid__ activation function in all models. The size of the vocabulary varied between 800-3200 depending on which text variable (company profile, description, benefits, requirements) we used. <br>\n",
    "\n",
    "\n",
    "For the optimization of this model we used mini-batches of size 64 and the ADAM optimizer. Also, we used a dropout rate of 15-25% during training, but we did not use dropout during prediction. As a loss function, we choose the __binary cross-entropy__ criterion, but we also measured accuracy during training/validation. We trained every model configuration for 20 epoch and chose the model in the end, which had the lowest binary cross-entropy loss on the validation set.<br>\n",
    "\n",
    "We also evaluated our best BiLSTM model (for each text variable) on independent test sets. We checked the __confusion matrix and the ROC-AUC curve__ for our own, balanced test set, the full, imbalanced dataset and also on the balanced dataset from the study/paper.\n",
    "\n",
    "Notebook for this model available here: https://github.com/k-amini/NLP_RNN/blob/master/notebooks/NLP_BiLSTM.ipynb"
   ]
  },
  {
   "cell_type": "markdown",
   "metadata": {
    "colab_type": "text",
    "id": "wYh9g1IApnjd"
   },
   "source": [
    "### BERT"
   ]
  },
  {
   "cell_type": "markdown",
   "metadata": {
    "colab_type": "text",
    "id": "mGctlYGxpnjh"
   },
   "source": [
    "After being published last year, BERT, a NLP model with several hundreds of millions of parameters, was found to be incredibly successful in the world of NLP applications. It outperformed state-of-the-art models in many tasks and is especially known to have **increased context awareness**. This is why we decided to use it for our goal, namely the detection of false job ads. BERT's key technical innovation is the application of bidirectional training of Transformer, an attention model, to NLP. Instead of working through sequences from left to right or right to left, BERT in a way looks at the whole sentence, i.e. more in a bidirectional way. The authors of BERT explain that a bidirectionally trained model, even though it converges slower, is capable of detecting deeper sense of language context and flow. They therefore developed a new training technique called MLM which allowed for this bidirectional training in NLP applications. BERT also relies on **WordPiece tokenization**, which means that each word can be broken down into sub-words, which can be beneficial when dealing with out of vocabulary words. This is especially interesting for the job-ad task, as some words might be technical literature. For our task, we will fine-tune BERT by adding a layer for text classification and train on it. This way we can take advantage of the pre-trained BERT model, which should extract relevant features from the text, which we in the end can classify with the last layer. In this fine-tuning application it is recommended to mostly stick to the hyperparameters that were suggested by the authors. We followed these suggestions and just changed the number of training epochs sligthly. BERT was mostly used for single- or 2-sentence applications and also question-answer tasks, which is why it is restricted to 512 input tokens. We therefore only use the first 512 words of each job-description and tell BERT to treat it as a single sentence.\n",
    "\n",
    "Similar to the BiLSTM we evaluated the perfomance of the model with confusion matrix and the ROC-AUC curve.\n",
    "\n",
    "Notebooks for this model are available here: <br>\n",
    "https://github.com/k-amini/NLP_RNN/blob/master/notebooks/Bert_Train.ipynb <br>\n",
    "https://github.com/k-amini/NLP_RNN/blob/master/notebooks/Bert_Evaluate.ipynb"
   ]
  },
  {
   "cell_type": "markdown",
   "metadata": {
    "colab_type": "text",
    "id": "sTjUbw4Jpnjm"
   },
   "source": [
    "## Model Parameter Tuning"
   ]
  },
  {
   "cell_type": "markdown",
   "metadata": {
    "colab_type": "text",
    "id": "cFBxksgRpnjq"
   },
   "source": [
    "### 1. BiLSTM"
   ]
  },
  {
   "cell_type": "code",
   "execution_count": 2,
   "metadata": {
    "colab": {},
    "colab_type": "code",
    "id": "IxxJXGcTpnjv",
    "outputId": "52535fc6-ef13-4166-b101-a8393a81fb38"
   },
   "outputs": [
    {
     "data": {
      "text/html": [
       "<img src=\"https://raw.githubusercontent.com/k-amini/NLP_RNN/master/Outputs/epoch_losses/benefits_loss_model3.png\"/>"
      ],
      "text/plain": [
       "<IPython.core.display.Image object>"
      ]
     },
     "metadata": {},
     "output_type": "display_data"
    },
    {
     "data": {
      "text/html": [
       "<img src=\"https://raw.githubusercontent.com/k-amini/NLP_RNN/master/Outputs/epoch_losses/description_loss_model3.png\"/>"
      ],
      "text/plain": [
       "<IPython.core.display.Image object>"
      ]
     },
     "metadata": {},
     "output_type": "display_data"
    },
    {
     "data": {
      "text/html": [
       "<img src=\"https://raw.githubusercontent.com/k-amini/NLP_RNN/master/Outputs/epoch_losses/requirements_loss_model3.png\"/>"
      ],
      "text/plain": [
       "<IPython.core.display.Image object>"
      ]
     },
     "metadata": {},
     "output_type": "display_data"
    }
   ],
   "source": [
    "from IPython.core.display import HTML \n",
    "from IPython.display import Image\n",
    "from IPython.display import display\n",
    "x= Image(url= \"https://raw.githubusercontent.com/k-amini/NLP_RNN/master/Outputs/epoch_losses/benefits_loss_model3.png\")\n",
    "y= Image(url= \"https://raw.githubusercontent.com/k-amini/NLP_RNN/master/Outputs/epoch_losses/description_loss_model3.png\")\n",
    "u= Image(url= \"https://raw.githubusercontent.com/k-amini/NLP_RNN/master/Outputs/epoch_losses/requirements_loss_model3.png\")\n",
    "#x = Image(filename='benefits_loss_model3.png') \n",
    "#y = Image(filename='description_loss_model3.png') \n",
    "#u = Image(filename='requirements_loss_model3.png') \n",
    "display(x, y, u)"
   ]
  },
  {
   "cell_type": "markdown",
   "metadata": {
    "colab_type": "text",
    "id": "Wrd1XeeXpnkA"
   },
   "source": [
    "The three plots above show the training and validation losses for different text variables: __description, benefits, and requirements__. We can depict from the plots that validation loss is going up after more or less 15 epochs. In our implementation, the model with the lowest validation loss was saved automatically, so that we could avoid overfitting, even if we used too many epoch initially."
   ]
  },
  {
   "cell_type": "markdown",
   "metadata": {
    "colab_type": "text",
    "id": "H_xIHcyqpnkF"
   },
   "source": [
    "### 2. BERT"
   ]
  },
  {
   "cell_type": "code",
   "execution_count": 3,
   "metadata": {},
   "outputs": [
    {
     "data": {
      "text/html": [
       "<img src=\"https://raw.githubusercontent.com/k-amini/NLP_RNN/master/Outputs/epoch_losses/bert_training_loss.png\"/>"
      ],
      "text/plain": [
       "<IPython.core.display.Image object>"
      ]
     },
     "execution_count": 3,
     "metadata": {},
     "output_type": "execute_result"
    }
   ],
   "source": [
    "Image(url= \"https://raw.githubusercontent.com/k-amini/NLP_RNN/master/Outputs/epoch_losses/bert_training_loss.png\" )"
   ]
  },
  {
   "cell_type": "markdown",
   "metadata": {
    "colab_type": "text",
    "id": "AjRqaGZgpnkN"
   },
   "source": [
    "The authors of Bert recommend 1-4 training epochs. However, we found that best results on an independent test set were obtained with 5 training epochs and thus went for that value. The other parameters like learning rate and optimizer were not changed."
   ]
  },
  {
   "cell_type": "markdown",
   "metadata": {
    "colab_type": "text",
    "id": "G4xh314BpnkQ"
   },
   "source": [
    "## Word Embedding Exploration"
   ]
  },
  {
   "cell_type": "markdown",
   "metadata": {
    "colab_type": "text",
    "id": "do_fLBVhpnkU"
   },
   "source": [
    "We also visualized the high-dimensional (100-dim) vector representation of our vocabulary in the BiLSTM model, using the T-SNE (t-distributed Stochastic Neighbor Embedding) algorithm to be able to represent the word embeddings in 2 dimensions. We initialized the T-SNE algorithm with PCA and run it for 2500 iterations using a perplexity parameter of 40. The resulting figures for the different text variables are shown below.\n",
    "\n",
    "One example of the word embedding we get is illustrated below:"
   ]
  },
  {
   "cell_type": "markdown",
   "metadata": {
    "colab_type": "text",
    "id": "687ViNbWpnkW"
   },
   "source": [
    "### Job Description"
   ]
  },
  {
   "cell_type": "code",
   "execution_count": 3,
   "metadata": {},
   "outputs": [
    {
     "data": {
      "text/html": [
       "<img src=\"https://raw.githubusercontent.com/k-amini/NLP_RNN/master/Outputs/t_sne_description.png\"/>"
      ],
      "text/plain": [
       "<IPython.core.display.Image object>"
      ]
     },
     "execution_count": 3,
     "metadata": {},
     "output_type": "execute_result"
    }
   ],
   "source": [
    "Image(url= \"https://raw.githubusercontent.com/k-amini/NLP_RNN/master/Outputs/t_sne_description.png\")"
   ]
  },
  {
   "cell_type": "markdown",
   "metadata": {
    "colab_type": "text",
    "id": "gLHQl7QMpnkg"
   },
   "source": [
    "The word embeddings for the other three variables can be found on github: https://github.com/k-amini/NLP_RNN"
   ]
  },
  {
   "cell_type": "markdown",
   "metadata": {},
   "source": [
    "# Result Summary of Models"
   ]
  },
  {
   "cell_type": "code",
   "execution_count": 7,
   "metadata": {},
   "outputs": [
    {
     "name": "stdout",
     "output_type": "stream",
     "text": [
      "┌──────────────────────────────────┬──────────────────┬──────────────────────┬───────────────┬───────────────────┐\n",
      "│ Model (Data)                     │ Description Acc. │ Company Profile Acc. │ Benefits Acc. │ Requirements Acc. │\n",
      "├──────────────────────────────────┼──────────────────┼──────────────────────┼───────────────┼───────────────────┤\n",
      "│ BiLSTM (Study Data)              │             0.88 │ -                    │ -             │ -                 │\n",
      "├──────────────────────────────────┼──────────────────┼──────────────────────┼───────────────┼───────────────────┤\n",
      "│ BiLSTM (Dedupl. & Balanced Data) │             0.76 │                 0.74 │          0.74 │              0.76 │\n",
      "├──────────────────────────────────┼──────────────────┼──────────────────────┼───────────────┼───────────────────┤\n",
      "│ BERT (Study Data)                │             0.93 │ -                    │ -             │ -                 │\n",
      "├──────────────────────────────────┼──────────────────┼──────────────────────┼───────────────┼───────────────────┤\n",
      "│ BERT (Dedupl. & Balanced Data)   │             0.88 │                 0.83 │          0.67 │              0.69 │\n",
      "└──────────────────────────────────┴──────────────────┴──────────────────────┴───────────────┴───────────────────┘\n"
     ]
    }
   ],
   "source": [
    "import tabletext\n",
    "\n",
    "data = [[\"Model (Data)\",\"Description Acc.\",\"Company Profile Acc.\",\"Benefits Acc.\",\"Requirements Acc.\"],\n",
    "        [\"BiLSTM (Study Data)\",0.88,\"-\",\"-\",\"-\"],\n",
    "        [\"BiLSTM (Dedupl. & Balanced Data)\",0.76,0.74,0.74,0.76],\n",
    "        [\"BERT (Study Data)\",0.93,\"-\",\"-\",\"-\"],\n",
    "        [\"BERT (Dedupl. & Balanced Data)\",0.88,0.83,0.67,0.69]\n",
    "        ]\n",
    "\n",
    "print (tabletext.to_text(data))"
   ]
  },
  {
   "cell_type": "markdown",
   "metadata": {},
   "source": [
    "## Results Dedupl. & Balanced Data"
   ]
  },
  {
   "cell_type": "markdown",
   "metadata": {},
   "source": [
    "When trained with the deduplicated and balanced dataset we can observe that overall BERT reaches higher accuracy for the individual predictions \"Description\" and \"Company Profile\", where the other two variables perform worse. Even though we were surprised to see a correct prediction in 93% of the cases looking at the Description for BERT what surprised us even more is that actually also the company profile correctly classifies the fraudulent cases in 83% of the cases. A possible explanation for this is that the fraudulent cases had missing descriptions, which in itself is an indicator for a non-existent firm."
   ]
  },
  {
   "cell_type": "markdown",
   "metadata": {},
   "source": [
    "## Comparison with Study Results"
   ]
  },
  {
   "cell_type": "markdown",
   "metadata": {},
   "source": [
    "The authors of the previously referenced paper used hand-crafted features and a special subset of data (that they found representative) for the training and evaluation of the dataset. They performed leave-one-out cross-validation and obtained a final accuracy of 90%. Due to computational restrictions we could not perform leave-one-out cross-validation. We therefore performed a random 90-10 train-test split on the data the authors used, trained our models on the train set and evaluated them on the independent test set. This way we have less data for training than the authors of the paper, but we expect a realistic estimation of the accuracy of the obtained model that is comparable to the leave-one-out accuracy. With the BiLSTM we got 88% and with BERT 93% (see also table above). We can therefore proudly claim to have beaten the method of the paper, with using even less training data than them and without using handcrafted features."
   ]
  },
  {
   "cell_type": "markdown",
   "metadata": {},
   "source": [
    "# Ensemble"
   ]
  },
  {
   "cell_type": "markdown",
   "metadata": {},
   "source": [
    "After we have separately retrieved classifications from each of our predictors including the corresponding prediction probabilities we decided to create a ensemble to holistically predict the label taking into consideration all of the predictions from all variables (company profile, description, requirements and benefits). So we basically predict the target label now from 4 variables which are represented as probabilities. The code herefore is presented in the following and a discussion of the results can be found at the end of the notebook:"
   ]
  },
  {
   "cell_type": "code",
   "execution_count": 5,
   "metadata": {
    "colab": {},
    "colab_type": "code",
    "id": "Mhyw4B5apnkm"
   },
   "outputs": [],
   "source": [
    "import numpy as np\n",
    "import pandas as pd\n",
    "import matplotlib.pyplot as plt\n",
    "from sklearn.model_selection import train_test_split\n",
    "from sklearn.ensemble import RandomForestClassifier\n",
    "from sklearn.model_selection import cross_val_score\n",
    "from sklearn.metrics import roc_curve, roc_auc_score\n",
    "from sklearn.metrics import accuracy_score,recall_score,precision_score,f1_score, confusion_matrix"
   ]
  },
  {
   "cell_type": "code",
   "execution_count": 6,
   "metadata": {
    "colab": {},
    "colab_type": "code",
    "id": "fdA7ZH6Cpnky"
   },
   "outputs": [],
   "source": [
    "def confusion_matrix_builder(dataframe,true_colname,pred_colname):\n",
    "\n",
    "    # Initialize confusion matrix\n",
    "    conf_matrix = np.zeros((2,2))\n",
    "\n",
    "    # Loop over matrix entries and calculate the values\n",
    "    for i in range(0,len(dataframe)):\n",
    "        if dataframe[true_colname].iloc[i] == 1 and dataframe[pred_colname].iloc[i] == 1:\n",
    "            conf_matrix[1,1] += 1\n",
    "        elif dataframe[true_colname].iloc[i] == 0 and dataframe[pred_colname].iloc[i] == 0:\n",
    "            conf_matrix[0,0] += 1\n",
    "        elif dataframe[true_colname].iloc[i] == 1 and dataframe[pred_colname].iloc[i] == 0:\n",
    "            conf_matrix[1,0] += 1\n",
    "        else:\n",
    "            conf_matrix[0,1] += 1\n",
    "\n",
    "    return conf_matrix"
   ]
  },
  {
   "cell_type": "code",
   "execution_count": 7,
   "metadata": {
    "colab": {},
    "colab_type": "code",
    "id": "ceTnaZkfpnk8"
   },
   "outputs": [],
   "source": [
    "import seaborn as sns\n",
    "def plot_confusion_matrix(cm, class_labels):\n",
    "    \"\"\"Pretty prints a confusion matrix as a figure\n",
    "\n",
    "    Args:\n",
    "        cm:  A confusion matrix for example\n",
    "        [[245, 5 ], \n",
    "         [ 34, 245]]\n",
    "         \n",
    "        class_labels: The list of class labels to be plotted on x-y axis\n",
    "\n",
    "    Rerturns:\n",
    "        Just plots the confusion matrix.\n",
    "    \"\"\"\n",
    "    \n",
    "    df_cm = pd.DataFrame(cm, index = [i for i in class_labels],\n",
    "                  columns = [i for i in class_labels])\n",
    "    sns.set(font_scale=1)\n",
    "    sns.heatmap(df_cm, annot=True, fmt='g', cmap='Blues')\n",
    "    plt.rcParams[\"figure.figsize\"] = (5,5)\n",
    "    plt.xlabel(\"Predicted label\")\n",
    "    plt.ylabel(\"Real label\")\n",
    "    plt.show()"
   ]
  },
  {
   "cell_type": "code",
   "execution_count": 8,
   "metadata": {
    "colab": {},
    "colab_type": "code",
    "id": "hrRGDm8qpnlH"
   },
   "outputs": [],
   "source": [
    "def get_auc(y, y_pred_probabilities, class_labels, column =1, plot = True):\n",
    "    \"\"\"Plots ROC AUC\n",
    "    \"\"\"\n",
    "    fpr, tpr, _ = roc_curve(y, y_pred_probabilities,drop_intermediate = False)\n",
    "    #roc_auc = roc_auc_score(y_true=y, y_score=y_pred_probabilities[:,1])\n",
    "    roc_auc = roc_auc_score(y_true=y, y_score=y_pred_probabilities)\n",
    "    print (\"AUC: \", roc_auc)\n",
    "    plt.plot(fpr, tpr, label='ROC curve (area = %0.2f)' % roc_auc)\n",
    "    plt.plot([0, 1], [0, 1], linestyle='--')\n",
    "    plt.xlim([0.0, 1.0])\n",
    "    plt.ylim([0.0, 1.0])\n",
    "    plt.xlabel('False Positive Rate')\n",
    "    plt.ylabel('True Positive Rate')\n",
    "    plt.title('Receiver operating characteristic for the BiLSTM model on the test set')\n",
    "    plt.legend(loc=\"lower right\")\n",
    "    plt.show()"
   ]
  },
  {
   "cell_type": "markdown",
   "metadata": {
    "colab_type": "text",
    "id": "5BRrJl_Dpnla"
   },
   "source": [
    "# BiLSTM Results in Ensemble"
   ]
  },
  {
   "cell_type": "markdown",
   "metadata": {
    "colab_type": "text",
    "id": "bq-47YI2pnlc"
   },
   "source": [
    "### Data Loading & Aggregating Predictions into Ensemble"
   ]
  },
  {
   "cell_type": "code",
   "execution_count": 9,
   "metadata": {
    "colab": {},
    "colab_type": "code",
    "id": "AOQbmxxVpnlf"
   },
   "outputs": [],
   "source": [
    "# Bi-directional\n",
    "benefits_df = pd.read_csv('test_preds_bilstm_benefits.csv')\n",
    "descr_df = pd.read_csv('test_preds_bilstm_description.csv')\n",
    "comp_prof_df = pd.read_csv('test_preds_bilstm_company_profile.csv')\n",
    "requirements_df = pd.read_csv('test_preds_bilstm_requirements.csv')"
   ]
  },
  {
   "cell_type": "code",
   "execution_count": 10,
   "metadata": {
    "colab": {},
    "colab_type": "code",
    "id": "kZ_8P0aVpnlo"
   },
   "outputs": [],
   "source": [
    "ensemble = benefits_df.copy()\n",
    "ensemble = ensemble[\"fraudulent\"]\n",
    "ensemble = pd.DataFrame(ensemble)\n",
    "ensemble[[\"pred_benef\",\"pred_rew_proba_benef\"]] = benefits_df[[\"pred_rew\",\"pred_rew_proba\"]]\n",
    "ensemble[[\"pred_descr\",\"pred_rew_proba_descr\"]] = descr_df[[\"pred_rew\",\"pred_rew_proba\"]]\n",
    "ensemble[[\"pred_comp_prof\",\"pred_rew_proba_prof\"]] = comp_prof_df[[\"pred_rew\",\"pred_rew_proba\"]]\n",
    "ensemble[[\"pred_comp_requ\",\"pred_rew_proba_requ\"]] = requirements_df[[\"pred_rew\",\"pred_rew_proba\"]]"
   ]
  },
  {
   "cell_type": "code",
   "execution_count": 11,
   "metadata": {
    "colab": {},
    "colab_type": "code",
    "id": "FP6-d1swpnlx"
   },
   "outputs": [],
   "source": [
    "ensemble_prob = ensemble[['fraudulent', 'pred_rew_proba_benef','pred_rew_proba_descr', 'pred_rew_proba_prof', 'pred_rew_proba_requ']]"
   ]
  },
  {
   "cell_type": "code",
   "execution_count": 12,
   "metadata": {
    "colab": {},
    "colab_type": "code",
    "id": "Ca7EusnIpnl-"
   },
   "outputs": [],
   "source": [
    "# Prepare variables for model\n",
    "y = ensemble_prob['fraudulent']\n",
    "X = ensemble_prob.drop(['fraudulent'],axis=1)"
   ]
  },
  {
   "cell_type": "code",
   "execution_count": 13,
   "metadata": {
    "colab": {},
    "colab_type": "code",
    "id": "ZV4ih_KfpnmF"
   },
   "outputs": [],
   "source": [
    "X_train, X_test, y_train, y_test = train_test_split(X, y, random_state=42)"
   ]
  },
  {
   "cell_type": "markdown",
   "metadata": {
    "colab_type": "text",
    "id": "ziOqC5HTpnmM"
   },
   "source": [
    "## Random Forest"
   ]
  },
  {
   "cell_type": "code",
   "execution_count": 14,
   "metadata": {
    "colab": {},
    "colab_type": "code",
    "id": "Jvcbt6qkpnmQ"
   },
   "outputs": [],
   "source": [
    "np.random.seed(3123)\n",
    "feature_names = X_train.columns\n",
    "forest = RandomForestClassifier(n_estimators=20)  #Setting n_estimator to prevent overfitting\n",
    "forest_fitted = forest.fit(X_train, y_train) \n",
    "scores = cross_val_score(forest, X_train, y_train, cv=5)\n",
    "y_pred_forest = forest.predict(X_test)"
   ]
  },
  {
   "cell_type": "code",
   "execution_count": 15,
   "metadata": {
    "colab": {},
    "colab_type": "code",
    "id": "BwJFW0q0pnmY"
   },
   "outputs": [],
   "source": [
    "# Also predicting probabilities to be used for the AUC\n",
    "y_pred_proba = forest.predict_proba(X_test)"
   ]
  },
  {
   "cell_type": "markdown",
   "metadata": {
    "colab_type": "text",
    "id": "JCjwByHxpnmg"
   },
   "source": [
    "## Assessing Accuracy and Feature Importance"
   ]
  },
  {
   "cell_type": "code",
   "execution_count": 16,
   "metadata": {
    "colab": {},
    "colab_type": "code",
    "id": "XhXSpjpEpnml",
    "outputId": "a18c785c-8f92-44c8-cc35-cf41c77cd95e"
   },
   "outputs": [
    {
     "name": "stdout",
     "output_type": "stream",
     "text": [
      "Accuracy: 0.86 (+/- 0.06)\n"
     ]
    },
    {
     "data": {
      "text/plain": [
       "pred_rew_proba_prof     1.000000\n",
       "pred_rew_proba_descr    0.596620\n",
       "pred_rew_proba_requ     0.413856\n",
       "pred_rew_proba_benef    0.336423\n",
       "dtype: float64"
      ]
     },
     "execution_count": 16,
     "metadata": {},
     "output_type": "execute_result"
    }
   ],
   "source": [
    "# Step 5: Assess expected accuracy\n",
    "print(\"Accuracy: %0.2f (+/- %0.2f)\" % (scores.mean(), scores.std() * 2))\n",
    "\n",
    "# Step 6: Assess variable importance\n",
    "importances = forest.fit(X,y).feature_importances_\n",
    "important_features = pd.Series(data=importances/importances.max() ,index=feature_names)\n",
    "important_features.sort_values(ascending=False)"
   ]
  },
  {
   "cell_type": "code",
   "execution_count": 19,
   "metadata": {
    "colab": {},
    "colab_type": "code",
    "id": "1LpLZZ5cpnmw",
    "outputId": "969cdbbc-f851-453e-a34a-d13eb56760c2"
   },
   "outputs": [
    {
     "name": "stdout",
     "output_type": "stream",
     "text": [
      "[[77.  6.]\n",
      " [10. 32.]]\n"
     ]
    }
   ],
   "source": [
    "test_y = pd.DataFrame(y_test.copy())\n",
    "test_y[\"prediction\"] = y_pred_forest\n",
    "\n",
    "conf_matrix = confusion_matrix_builder(dataframe=test_y,\n",
    "                                       true_colname='fraudulent',\n",
    "                                       pred_colname='prediction')\n",
    "# Print results\n",
    "print(conf_matrix)"
   ]
  },
  {
   "cell_type": "code",
   "execution_count": 20,
   "metadata": {
    "colab": {},
    "colab_type": "code",
    "id": "mt22QXP4pnm4",
    "outputId": "3224022b-052a-4298-c1d5-e8b795fee4a8"
   },
   "outputs": [
    {
     "name": "stdout",
     "output_type": "stream",
     "text": [
      "Accuracy Score : 0.872\n",
      "Precision Score : 0.8421052631578947\n",
      "Recall Score : 0.7619047619047619\n",
      "F1 Score : 0.8\n"
     ]
    },
    {
     "data": {
      "image/png": "[encoded data removed]",
      "text/plain": [
       "<Figure size 432x288 with 2 Axes>"
      ]
     },
     "metadata": {},
     "output_type": "display_data"
    }
   ],
   "source": [
    "print('Accuracy Score : ' + str(accuracy_score(test_y['fraudulent'],test_y['prediction'])))\n",
    "print('Precision Score : ' + str(precision_score(test_y['fraudulent'],test_y['prediction'])))\n",
    "print('Recall Score : ' + str(recall_score(test_y['fraudulent'],test_y['prediction'])))\n",
    "print('F1 Score : ' + str(f1_score(test_y['fraudulent'],test_y['prediction'])))\n",
    "\n",
    "plot_confusion_matrix(conf_matrix, class_labels=['Valid','Fraudulent'])"
   ]
  },
  {
   "cell_type": "code",
   "execution_count": 21,
   "metadata": {
    "colab": {},
    "colab_type": "code",
    "id": "etx10CVDpnm_",
    "outputId": "105dc699-324a-480d-939a-5fb59a8a6424"
   },
   "outputs": [
    {
     "name": "stdout",
     "output_type": "stream",
     "text": [
      "AUC:  0.8924268502581756\n"
     ]
    },
    {
     "data": {
      "image/png": "[encoded data removed]",
      "text/plain": [
       "<Figure size 360x360 with 1 Axes>"
      ]
     },
     "metadata": {},
     "output_type": "display_data"
    }
   ],
   "source": [
    "get_auc(y=y_test, y_pred_probabilities=y_pred_proba[:,1],\n",
    "        class_labels=['Valid','Fraudulent'],\n",
    "        column =1, plot = True)"
   ]
  },
  {
   "cell_type": "markdown",
   "metadata": {
    "colab_type": "text",
    "id": "9EUiyuzypnnH"
   },
   "source": [
    "# BERT Results in Ensemble"
   ]
  },
  {
   "cell_type": "markdown",
   "metadata": {
    "colab_type": "text",
    "id": "Ad3c92KgpnnJ"
   },
   "source": [
    "### Data Loading & Aggregating Predictions into Ensemble"
   ]
  },
  {
   "cell_type": "code",
   "execution_count": 22,
   "metadata": {
    "colab": {},
    "colab_type": "code",
    "id": "3l2grP59pnnL"
   },
   "outputs": [],
   "source": [
    "# Bert\n",
    "ensemble_bert = pd.read_csv('Bert_balanced_nodupl_5epochs_test_preds.csv')"
   ]
  },
  {
   "cell_type": "code",
   "execution_count": 23,
   "metadata": {
    "colab": {},
    "colab_type": "code",
    "id": "OLr_onsapnnQ"
   },
   "outputs": [],
   "source": [
    "ensemble_prob_bert = ensemble_bert[['fraudulent', 'pred_proba_benefits','pred_proba_description', 'pred_proba_company_profile', 'pred_proba_requirements']]"
   ]
  },
  {
   "cell_type": "code",
   "execution_count": 24,
   "metadata": {
    "colab": {},
    "colab_type": "code",
    "id": "zg28Z-c1pnnW"
   },
   "outputs": [],
   "source": [
    "# Prepare variables for model\n",
    "y = ensemble_prob_bert['fraudulent']\n",
    "X = ensemble_prob_bert.drop(['fraudulent'],axis=1)"
   ]
  },
  {
   "cell_type": "code",
   "execution_count": 25,
   "metadata": {
    "colab": {},
    "colab_type": "code",
    "id": "RbY5x9ZOpnnj"
   },
   "outputs": [],
   "source": [
    "X_train, X_test, y_train, y_test = train_test_split(X, y, random_state=42)"
   ]
  },
  {
   "cell_type": "code",
   "execution_count": 26,
   "metadata": {
    "colab": {},
    "colab_type": "code",
    "id": "BLosOaU_pnnp"
   },
   "outputs": [],
   "source": [
    "feature_names = X_train.columns\n",
    "forest = RandomForestClassifier(n_estimators=20)  #Setting n_estimator to prevent overfitting\n",
    "forest_fitted = forest.fit(X_train, y_train) \n",
    "scores = cross_val_score(forest, X_train, y_train, cv=5)\n",
    "y_pred_forest = forest.predict(X_test)"
   ]
  },
  {
   "cell_type": "code",
   "execution_count": 27,
   "metadata": {
    "colab": {},
    "colab_type": "code",
    "id": "7V2lga_Vpnnv"
   },
   "outputs": [],
   "source": [
    "# Also predicting probabilities to be used for the AUC\n",
    "y_pred_proba = forest.predict_proba(X_test)"
   ]
  },
  {
   "cell_type": "markdown",
   "metadata": {
    "colab_type": "text",
    "id": "zQdIydgNpnn1"
   },
   "source": [
    "## Assessing Accuracy and Feature Importance"
   ]
  },
  {
   "cell_type": "code",
   "execution_count": 28,
   "metadata": {
    "colab": {},
    "colab_type": "code",
    "id": "kD6AJoQ2pnn4",
    "outputId": "9d3b19cd-6709-4a0e-961f-0d336629c607"
   },
   "outputs": [
    {
     "name": "stdout",
     "output_type": "stream",
     "text": [
      "Accuracy: 0.87 (+/- 0.05)\n"
     ]
    },
    {
     "data": {
      "text/plain": [
       "pred_proba_description        1.000000\n",
       "pred_proba_requirements       0.593532\n",
       "pred_proba_company_profile    0.241190\n",
       "pred_proba_benefits           0.183746\n",
       "dtype: float64"
      ]
     },
     "execution_count": 28,
     "metadata": {},
     "output_type": "execute_result"
    }
   ],
   "source": [
    "# Step 5: Assess expected accuracy\n",
    "print(\"Accuracy: %0.2f (+/- %0.2f)\" % (scores.mean(), scores.std() * 2))\n",
    "\n",
    "# Step 6: Assess variable importance\n",
    "importances = forest.fit(X,y).feature_importances_\n",
    "important_features = pd.Series(data=importances/importances.max() ,index=feature_names)\n",
    "important_features.sort_values(ascending=False)"
   ]
  },
  {
   "cell_type": "code",
   "execution_count": 29,
   "metadata": {
    "colab": {},
    "colab_type": "code",
    "id": "woSrdVxNpnn-",
    "outputId": "3be40750-2f3d-4a6d-e3e8-a9d31a47aec6"
   },
   "outputs": [
    {
     "name": "stdout",
     "output_type": "stream",
     "text": [
      "[[75.  8.]\n",
      " [ 9. 33.]]\n"
     ]
    }
   ],
   "source": [
    "test_y = pd.DataFrame(y_test.copy())\n",
    "test_y[\"prediction\"] = y_pred_forest\n",
    "\n",
    "conf_matrix = confusion_matrix_builder(dataframe=test_y,\n",
    "                                       true_colname='fraudulent',\n",
    "                                       pred_colname='prediction')\n",
    "# Print results\n",
    "print(conf_matrix)"
   ]
  },
  {
   "cell_type": "code",
   "execution_count": 30,
   "metadata": {
    "colab": {},
    "colab_type": "code",
    "id": "XEw34g8IpnoE",
    "outputId": "8c2635cb-711e-430b-8152-043f9127896d"
   },
   "outputs": [
    {
     "name": "stdout",
     "output_type": "stream",
     "text": [
      "Accuracy Score : 0.864\n",
      "Precision Score : 0.8048780487804879\n",
      "Recall Score : 0.7857142857142857\n",
      "F1 Score : 0.7951807228915663\n"
     ]
    },
    {
     "data": {
      "image/png": "[encoded data removed]",
      "text/plain": [
       "<Figure size 360x360 with 2 Axes>"
      ]
     },
     "metadata": {},
     "output_type": "display_data"
    }
   ],
   "source": [
    "print('Accuracy Score : ' + str(accuracy_score(test_y['fraudulent'],test_y['prediction'])))\n",
    "print('Precision Score : ' + str(precision_score(test_y['fraudulent'],test_y['prediction'])))\n",
    "print('Recall Score : ' + str(recall_score(test_y['fraudulent'],test_y['prediction'])))\n",
    "print('F1 Score : ' + str(f1_score(test_y['fraudulent'],test_y['prediction'])))\n",
    "\n",
    "plot_confusion_matrix(conf_matrix, class_labels=['Valid','Fraudulent'])"
   ]
  },
  {
   "cell_type": "code",
   "execution_count": 31,
   "metadata": {
    "colab": {},
    "colab_type": "code",
    "id": "LH-s4ezfpnoL",
    "outputId": "e6dc74d8-2307-4759-971b-3d8093713f7d"
   },
   "outputs": [
    {
     "name": "stdout",
     "output_type": "stream",
     "text": [
      "AUC:  0.9290017211703958\n"
     ]
    },
    {
     "data": {
      "image/png": "[encoded data removed]",
      "text/plain": [
       "<Figure size 360x360 with 1 Axes>"
      ]
     },
     "metadata": {},
     "output_type": "display_data"
    }
   ],
   "source": [
    "get_auc(y=y_test, y_pred_probabilities=y_pred_proba[:,1],\n",
    "        class_labels=['Valid','Fraudulent'],\n",
    "        column =1, plot = True)"
   ]
  },
  {
   "cell_type": "markdown",
   "metadata": {
    "colab_type": "text",
    "id": "AVPwyqZ7pnoR"
   },
   "source": [
    "# Results Ensemble"
   ]
  },
  {
   "cell_type": "code",
   "execution_count": 8,
   "metadata": {
    "colab": {},
    "colab_type": "code",
    "id": "pjyXRpa1pnou"
   },
   "outputs": [
    {
     "name": "stdout",
     "output_type": "stream",
     "text": [
      "┌───────────────────────────────────────────────────────┬──────────────────┐\n",
      "│ Model (Data)                                          │ Description Acc. │\n",
      "├───────────────────────────────────────────────────────┼──────────────────┤\n",
      "│ Ensemble BERT Predictions (Dedupl. & Balanced Data)   │             0.87 │\n",
      "├───────────────────────────────────────────────────────┼──────────────────┤\n",
      "│ Ensebmle BiLSTM Predictions (Dedupl. & Balanced Data) │             0.86 │\n",
      "└───────────────────────────────────────────────────────┴──────────────────┘\n"
     ]
    }
   ],
   "source": [
    "data = [[\"Model (Data)\",\"Description Acc.\"],\n",
    "        [\"Ensemble BERT Predictions (Dedupl. & Balanced Data)\",0.87],\n",
    "        [\"Ensebmle BiLSTM Predictions (Dedupl. & Balanced Data)\",0.86],\n",
    "        ]\n",
    "\n",
    "print (tabletext.to_text(data))"
   ]
  },
  {
   "cell_type": "markdown",
   "metadata": {},
   "source": [
    "## Results Individual Models (for comparison)"
   ]
  },
  {
   "cell_type": "code",
   "execution_count": 9,
   "metadata": {},
   "outputs": [
    {
     "name": "stdout",
     "output_type": "stream",
     "text": [
      "┌──────────────────────────────────┬──────────────────┬──────────────────────┬───────────────┬───────────────────┐\n",
      "│ Model (Data)                     │ Description Acc. │ Company Profile Acc. │ Benefits Acc. │ Requirements Acc. │\n",
      "├──────────────────────────────────┼──────────────────┼──────────────────────┼───────────────┼───────────────────┤\n",
      "│ BiLSTM (Study Data)              │             0.88 │ -                    │ -             │ -                 │\n",
      "├──────────────────────────────────┼──────────────────┼──────────────────────┼───────────────┼───────────────────┤\n",
      "│ BiLSTM (Dedupl. & Balanced Data) │             0.76 │                 0.74 │          0.74 │              0.76 │\n",
      "├──────────────────────────────────┼──────────────────┼──────────────────────┼───────────────┼───────────────────┤\n",
      "│ BERT (Study Data)                │             0.93 │ -                    │ -             │ -                 │\n",
      "├──────────────────────────────────┼──────────────────┼──────────────────────┼───────────────┼───────────────────┤\n",
      "│ BERT (Dedupl. & Balanced Data)   │             0.88 │                 0.83 │          0.67 │              0.69 │\n",
      "└──────────────────────────────────┴──────────────────┴──────────────────────┴───────────────┴───────────────────┘\n"
     ]
    }
   ],
   "source": [
    "data = [[\"Model (Data)\",\"Description Acc.\",\"Company Profile Acc.\",\"Benefits Acc.\",\"Requirements Acc.\"],\n",
    "        [\"BiLSTM (Study Data)\",0.88,\"-\",\"-\",\"-\"],\n",
    "        [\"BiLSTM (Dedupl. & Balanced Data)\",0.76,0.74,0.74,0.76],\n",
    "        [\"BERT (Study Data)\",0.93,\"-\",\"-\",\"-\"],\n",
    "        [\"BERT (Dedupl. & Balanced Data)\",0.88,0.83,0.67,0.69]\n",
    "        ]\n",
    "\n",
    "print (tabletext.to_text(data))"
   ]
  },
  {
   "cell_type": "markdown",
   "metadata": {},
   "source": [
    "Since we trained separate NLP models for the 4 text variables, our idea was to combine their results to build a \"superlearner\". Therefore we trained an ensemble, which takes the probability predictions from the separate NLP models and uses a random forest algorithm to best combine them. However as we can see on the accuracy results, this extension does not bring the expected improvement in accuracy. Actually, compared to the BERT - description model, the accuracy even decreased. One potential reason for this is the small training sample, since we had to split the already \"small\" independent test set into a train and validation set to train the ensemble. Another reason for this result might be that the random forest randomly selects the features that it uses for each subspace partition, therefore sometimes it does not use the probability prediction from the 'Description' model which is way better for the BERT than the other text variables. This problem could be solved for example via using a simple decision tree, but that could raise different problems (instability etc). Another interesting result to note that the ensemble substantially improved the accuracy for the BiLSTM models (bringing ~10% point accuracy improvement compared to the separate, single models)."
   ]
  }
 ],
 "metadata": {
  "colab": {
   "collapsed_sections": [],
   "name": "NLP.ipynb",
   "provenance": []
  },
  "kernelspec": {
   "display_name": "Python 3",
   "language": "python",
   "name": "python3"
  },
  "language_info": {
   "codemirror_mode": {
    "name": "ipython",
    "version": 3
   },
   "file_extension": ".py",
   "mimetype": "text/x-python",
   "name": "python",
   "nbconvert_exporter": "python",
   "pygments_lexer": "ipython3",
   "version": "3.8.0"
  },
  "toc": {
   "base_numbering": 1,
   "nav_menu": {},
   "number_sections": true,
   "sideBar": true,
   "skip_h1_title": false,
   "title_cell": "Table of Contents",
   "title_sidebar": "Contents",
   "toc_cell": false,
   "toc_position": {},
   "toc_section_display": true,
   "toc_window_display": false
  }
 },
 "nbformat": 4,
 "nbformat_minor": 1
}
